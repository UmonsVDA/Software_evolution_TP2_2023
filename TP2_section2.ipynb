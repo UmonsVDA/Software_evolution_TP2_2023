{
 "cells": [
  {
   "cell_type": "markdown",
   "id": "978a24fe-cb2e-4efc-a2e5-28e910e871d2",
   "metadata": {},
   "source": [
    "# Software Evolution - Practical Session\n",
    "## Laws of software evolution, code counting, code duplication and dependency analysis\n",
    "## Academic year 2022-2023"
   ]
  },
  {
   "cell_type": "markdown",
   "id": "57eb142c-d3ef-4d5e-94cb-d521369b384b",
   "metadata": {},
   "source": [
    "### Write your answers under the questions that are present in this notebook  \n",
    "\n",
    "### Read Section 1 and Section 2 in the provided description document before proceeding with the following section "
   ]
  },
  {
   "cell_type": "code",
   "execution_count": 43,
   "id": "55d3a082-512b-40e6-95bf-27191ea9aaaa",
   "metadata": {},
   "outputs": [],
   "source": [
    "import os\n",
    "import json\n",
    "from tqdm import tqdm\n",
    "import pandas as pd\n",
    "import numpy as np\n",
    "import matplotlib.pyplot as plt\n",
    "import subprocess\n",
    "import math\n",
    "from pandas import option_context\n",
    "from sklearn.linear_model import LinearRegression\n",
    "from sklearn.preprocessing import PolynomialFeatures"
   ]
  },
  {
   "cell_type": "markdown",
   "id": "f1e29dfc",
   "metadata": {},
   "source": [
    "# I Am sorry, I had some issues with CLOC because I am using Windows so, I can't answer some questions about CLOC"
   ]
  },
  {
   "cell_type": "markdown",
   "id": "488731a0",
   "metadata": {},
   "source": []
  },
  {
   "cell_type": "markdown",
   "id": "6d83b58e-d5ad-4004-8cc5-e4b31721bb12",
   "metadata": {},
   "source": [
    "## 2. Verifying laws of software evolution"
   ]
  },
  {
   "cell_type": "code",
   "execution_count": 2,
   "id": "0f76117a-1a18-4cb5-8ed0-3fa9cfdfc31c",
   "metadata": {},
   "outputs": [],
   "source": [
    "#Enter the path where the Eucalyptus project is present\n",
    "eucalyptus_project_path = 'C:/Users/jkmhx/Desktop/UMons/M2/SE/TPs/TP2/Software_evolution_TP2_2023'"
   ]
  },
  {
   "cell_type": "markdown",
   "id": "081450a6-87af-484c-8a64-56d49eccff80",
   "metadata": {},
   "source": [
    "### 2.1 Data prepocessing\n",
    "1. Get all the tags present in the eucalyptus project using CLOC\n",
    "2. Filter out the tags that do not correspond to official releases"
   ]
  },
  {
   "cell_type": "markdown",
   "id": "340322a1-719b-472b-8b2a-40c974224c1c",
   "metadata": {},
   "source": [
    "Code hint:  \n",
    "To get the tags that are present in the project - \"command = f'git -C {eucalyptus_project_path} tag -l --format=\"%(refname:short)\" | sort -r'\"   \n",
    "To read the terminal output - 'process = subprocess.Popen(command, stdout=subprocess.PIPE, shell=True)'"
   ]
  },
  {
   "cell_type": "code",
   "execution_count": 3,
   "id": "8cede273-9ee7-4e38-b340-9ad4eca08c18",
   "metadata": {},
   "outputs": [
    {
     "name": "stdout",
     "output_type": "stream",
     "text": [
      "[]\n"
     ]
    }
   ],
   "source": [
    "# Your code here\n",
    "command = f'git -C {eucalyptus_project_path} tag -l --format=\"%(refname:short)\" | sort -r'\n",
    "process = subprocess.Popen(command, stdout=subprocess.PIPE, shell=True)\n",
    "all_tags = list(line.strip().decode(\"utf-8\") for line in process.stdout)\n",
    "print(all_tags)"
   ]
  },
  {
   "cell_type": "code",
   "execution_count": 4,
   "id": "02d5a6fc",
   "metadata": {},
   "outputs": [],
   "source": [
    "tags=[]\n",
    "for line in process.stdout:\n",
    "    c=line[:-1]\n",
    "    print(c)"
   ]
  },
  {
   "cell_type": "code",
   "execution_count": 5,
   "id": "e8ed2aea-5e29-4cfa-82fa-f43e233fb5ee",
   "metadata": {},
   "outputs": [],
   "source": [
    "# Your tag filtering code here\n",
    "major_minor_patch_versions = ['1.4','1.5.0','1.5.1','1.5.2','1.6.1','2.0.0','2.0.1','3.0.0','3.0.1','3.1.0','3.1.1','3.1.2','3.2.0','3.2.1',\n",
    "                              '3.2.2','3.3.0','3.3.1','3.3.2','3.4.0','3.4.1','3.4.2','v4.0.0','v4.0.1','v4.0.2','v4.1.0','v4.1.1','v4.1.2',\n",
    "                              'v4.2.0','v4.2.1','v4.2.2','v4.3.0','v4.3.1','v4.4.0','v4.4.1','v4.4.2']\n",
    "major_minor_versions = ['1.4','1.5.0','1.6.1','2.0.0','3.0.0','3.1.0','3.2.0','3.3.0','3.4.0','v4.0.0','v4.1.0','v4.2.0','v4.3.0','v4.4.0']"
   ]
  },
  {
   "cell_type": "markdown",
   "id": "aca20a9c-4269-42e0-82d0-ff33d9fe9b30",
   "metadata": {},
   "source": [
    "### 2.2 Law of Increasing Growth\n",
    "1. Fetch the required data (lines of code, blank lines, comment lines and number of files) for each tag along with their release date using CLOC\n",
    "2. Separate the data as following (also mentioned in section 2.1 of the description document)  \n",
    "    a) Consider all the three-component versions (major.minor.patch) - Dataset A  \n",
    "    b) Consider only the minor versions (major.minor) - Dataset B  \n",
    "\n",
    "Note: For example, if there exists any tag like 2.1.0.1, then you can consider it as 2.1.0 provided such a tag does not exist in the data. If both 2.1.0 and 2.1.0.1 exists, then you can ignore the latter "
   ]
  },
  {
   "cell_type": "markdown",
   "id": "cbab47f1-933d-4b28-8a35-f7c3e82cd15c",
   "metadata": {},
   "source": [
    "Code hint:  \n",
    "To set the project to a required tag - \"command = f'git -C {project_path} reset --hard {tag}'\"  \n",
    "For each tag, pass the command to the terminal, invoke cloc tool to get the necessary data in the required format (json, md,...), read the terminal output and store the data"
   ]
  },
  {
   "cell_type": "code",
   "execution_count": 33,
   "id": "f722fc93-4221-4ece-91e0-d521ddc84987",
   "metadata": {},
   "outputs": [
    {
     "data": {
      "text/plain": [
       "<subprocess.Popen at 0x1ae54fa9e50>"
      ]
     },
     "execution_count": 33,
     "metadata": {},
     "output_type": "execute_result"
    }
   ],
   "source": [
    "#Your code here\n",
    "tag = major_minor_patch_versions[0]\n",
    "command = f'git -C {eucalyptus_project_path} reset --hard {tag}'   \n",
    "process = subprocess.Popen(command, stdout=subprocess.PIPE, shell=True)\n",
    "\n",
    "command = f'cloc --git --json {eucalyptus_project_path}'\n",
    "process = subprocess.Popen(command, stdout=subprocess.PIPE, shell=True)\n",
    "process"
   ]
  },
  {
   "cell_type": "code",
   "execution_count": 37,
   "id": "4c329a07",
   "metadata": {},
   "outputs": [],
   "source": [
    "data = \"\"\n",
    "data+=process.stdout.read().decode(\"utf-8\")\n"
   ]
  },
  {
   "cell_type": "code",
   "execution_count": 38,
   "id": "7fb6a770",
   "metadata": {},
   "outputs": [
    {
     "data": {
      "text/plain": [
       "' '"
      ]
     },
     "execution_count": 38,
     "metadata": {},
     "output_type": "execute_result"
    }
   ],
   "source": [
    "data"
   ]
  },
  {
   "cell_type": "code",
   "execution_count": 36,
   "id": "b2f30054",
   "metadata": {},
   "outputs": [
    {
     "data": {
      "text/plain": [
       "'1.4'"
      ]
     },
     "execution_count": 36,
     "metadata": {},
     "output_type": "execute_result"
    }
   ],
   "source": [
    "major_minor_patch_versions[0]"
   ]
  },
  {
   "cell_type": "code",
   "execution_count": 15,
   "id": "aefb6d51-33bb-4a0c-95ea-aac4f62c3366",
   "metadata": {},
   "outputs": [],
   "source": [
    "command = f'git -C {eucalyptus_project_path} tag -l --format=\"%(refname:short)|%(creatordate:short)\" | sort -r' # to get the release date\n",
    "process = subprocess.Popen(command, stdout=subprocess.PIPE, shell=True)\n",
    "# Your code to obtain the release date of each tag and combine it with the data obtained in the previous cell. Final data should have\n",
    "# #lines of code, #comments, #files, #blanks, #release date"
   ]
  },
  {
   "cell_type": "code",
   "execution_count": 16,
   "id": "859eadcc",
   "metadata": {},
   "outputs": [
    {
     "data": {
      "text/plain": [
       "b''"
      ]
     },
     "execution_count": 16,
     "metadata": {},
     "output_type": "execute_result"
    }
   ],
   "source": [
    "process.stdout.read()\n"
   ]
  },
  {
   "cell_type": "code",
   "execution_count": null,
   "id": "c9d32893-d57a-4edc-b1e7-1825b64ae9c9",
   "metadata": {},
   "outputs": [],
   "source": [
    "# Your code here to get the versions of the form major.minor "
   ]
  },
  {
   "cell_type": "code",
   "execution_count": null,
   "id": "1b8ba85a-ea94-4cc3-980e-46d42f59ef0e",
   "metadata": {},
   "outputs": [],
   "source": [
    "# Your code here to get the versions of the form major.minor.patch"
   ]
  },
  {
   "cell_type": "markdown",
   "id": "5635bd4d-979b-44a2-ae4a-1962b170445a",
   "metadata": {},
   "source": [
    "#### Visualization\n",
    "1. x-axis = version, y-axis = number  \n",
    "    i) for tags of the type major.minor.patch  \n",
    "    ii) for tags of the type major.minor  \n",
    "\n",
    "2. x-axis = date, y-axis = number  \n",
    "    i) for tags of the type major.minor.patch  \n",
    "    ii) for tags of the type major.minor  \n",
    "\n",
    "For easy comparison, place the plots with the versions on x-axis should be on the top (0,0) and (1,0) and their corresponding plots with date on the x-axis right below them (1,0) and (1,1) "
   ]
  },
  {
   "cell_type": "code",
   "execution_count": 64,
   "id": "2b146e1b-99f4-4a0f-8202-2231a10a86b2",
   "metadata": {},
   "outputs": [
    {
     "data": {
      "text/plain": [
       "[<matplotlib.lines.Line2D at 0x1ae57744ac0>]"
      ]
     },
     "execution_count": 64,
     "metadata": {},
     "output_type": "execute_result"
    },
    {
     "data": {
      "image/png": "[encoded data removed]",
      "text/plain": [
       "<Figure size 1332x756 with 4 Axes>"
      ]
     },
     "metadata": {
      "needs_background": "light"
     },
     "output_type": "display_data"
    }
   ],
   "source": [
    "#import csv\n",
    "major_minor = pd.read_csv('LIG_major_minor.csv',)\n",
    "major_minor_patch = pd.read_csv('LIG_major_minor_patch.csv')\n",
    "\n",
    "#draw plot for tags of the form major.minor\n",
    "\n",
    "fig,axes = plt.subplots(2,2)\n",
    "fig.set_size_inches(18.5, 10.5)\n",
    "axes[0,0].plot(major_minor['major.minor'],major_minor['nb_nfiles'])\n",
    "# axes[0,0].set_title('Number of files _ MM')\n",
    "\n",
    "axes[0,1].plot(major_minor_patch['major.minor.patch'],major_minor_patch['nb_nfiles'])\n",
    "# axes[0,1].set_title('Number of files _ MMP')\n",
    "\n",
    "axes[1,0].plot(major_minor['date'],major_minor['nb_nfiles'])\n",
    "# axes[1,0].set_title('Number of files')\n",
    "\n",
    "axes[1,1].plot(major_minor_patch['date'],major_minor_patch['nb_nfiles'])\n",
    "# axes[1,1].set_title('Number of files')\n",
    "\n",
    "\n"
   ]
  },
  {
   "cell_type": "markdown",
   "id": "8774bc4c-9131-425d-b8d2-9d0940e48f6c",
   "metadata": {},
   "source": [
    "### Questions:\n",
    "1. Do you find any difference between the plot that is having date in the x-axis and the plot that is having tag in the x-axis? If yes, then what is the difference? If no, then why is it same?"
   ]
  },
  {
   "attachments": {},
   "cell_type": "markdown",
   "id": "b03dae7d-de25-4146-baf6-d8bfd2419549",
   "metadata": {},
   "source": [
    "They have the same general shape but are not exactly the same.\n",
    "\n",
    "Plots about Major-Minor are a little but more different from one version to another than the plots for Major-Minor-Patch.\n",
    "\n",
    "For the MMP versions, I can see a difference around the middle of the plot, one the peak. It's larger for the plot with tags"
   ]
  },
  {
   "cell_type": "markdown",
   "id": "edf025c5-9edc-440d-9bee-5dbdf20431bc",
   "metadata": {},
   "source": [
    "2. Which type of plot is preferable for software evolution analysis?   \n",
    "    a) date in x-axis  \n",
    "    b) tag in x-axis  \n",
    "Why?"
   ]
  },
  {
   "attachments": {},
   "cell_type": "markdown",
   "id": "ea949023-d96b-4fdd-9027-d453bdf51e99",
   "metadata": {},
   "source": [
    "I think it depends on the project. For this one, I think the tag in x-axis is better because it should be easier to see the evolution of the project. We can see changes from a version to another. But, some changes could take more time so, using date is not always a good idea."
   ]
  },
  {
   "cell_type": "markdown",
   "id": "6110bbae-e381-43ec-9a51-72bf941e3ced",
   "metadata": {},
   "source": [
    "3. Choose an option regarding the growth of the software by considering Dataset A. Motivate your choice using a 1d regression plot (below).  \n",
    "    a) Linear  \n",
    "    b) Sub-linear  \n",
    "    c) Super-linear  "
   ]
  },
  {
   "attachments": {},
   "cell_type": "markdown",
   "id": "cb637502-7b6c-4eb2-8b9e-6cc2f3793031",
   "metadata": {},
   "source": [
    "It looks like it's growing sublinearly."
   ]
  },
  {
   "cell_type": "code",
   "execution_count": 81,
   "id": "1b3a1dc2-2030-4f14-bf05-147628c7dd65",
   "metadata": {},
   "outputs": [
    {
     "data": {
      "text/plain": [
       "[<matplotlib.lines.Line2D at 0x1ae58044310>]"
      ]
     },
     "execution_count": 81,
     "metadata": {},
     "output_type": "execute_result"
    },
    {
     "data": {
      "image/png": "[encoded data removed]",
      "text/plain": [
       "<Figure size 504x504 with 1 Axes>"
      ]
     },
     "metadata": {
      "needs_background": "light"
     },
     "output_type": "display_data"
    }
   ],
   "source": [
    "plt.figure(figsize=(7,7))\n",
    "# Your code for regression plot\n",
    "\n",
    "# # plot a linear regression model for major.minor.patch numbers of files\n",
    "x = major_minor_patch['major.minor.patch'].astype('category').cat.codes.values.reshape(-1,1)\n",
    "y = major_minor_patch['nb_nfiles'].values.reshape(-1,1)\n",
    "\n",
    "lr = LinearRegression()\n",
    "lr.fit(x,y)\n",
    "\n",
    "#plot linear regression model\n",
    "plt.plot(x,lr.predict(x),color='red')\n",
    "plt.plot(x,y, color='green')\n",
    "\n",
    "\n",
    "\n"
   ]
  },
  {
   "cell_type": "markdown",
   "id": "c7cc92a4-8386-4359-b041-ce267552a09a",
   "metadata": {},
   "source": [
    "### Correlation \n",
    "Correlation is generally used to analyse the relationship between variables. Here, analyse the relationship between the number of lines of code and the number of files using Spearman correlation and Pearson correlation by considering Dataset A. Report the correlation upto 3 decimal places"
   ]
  },
  {
   "cell_type": "code",
   "execution_count": 88,
   "id": "69dc93ac",
   "metadata": {},
   "outputs": [
    {
     "data": {
      "text/html": [
       "<div>\n",
       "<style scoped>\n",
       "    .dataframe tbody tr th:only-of-type {\n",
       "        vertical-align: middle;\n",
       "    }\n",
       "\n",
       "    .dataframe tbody tr th {\n",
       "        vertical-align: top;\n",
       "    }\n",
       "\n",
       "    .dataframe thead th {\n",
       "        text-align: right;\n",
       "    }\n",
       "</style>\n",
       "<table border=\"1\" class=\"dataframe\">\n",
       "  <thead>\n",
       "    <tr style=\"text-align: right;\">\n",
       "      <th></th>\n",
       "      <th>Unnamed: 0</th>\n",
       "      <th>major</th>\n",
       "      <th>minor</th>\n",
       "      <th>patch</th>\n",
       "      <th>nb_code</th>\n",
       "      <th>nb_blank</th>\n",
       "      <th>nb_comment</th>\n",
       "      <th>nb_nfiles</th>\n",
       "      <th>date</th>\n",
       "      <th>relative_day</th>\n",
       "      <th>major.minor.patch</th>\n",
       "    </tr>\n",
       "  </thead>\n",
       "  <tbody>\n",
       "    <tr>\n",
       "      <th>0</th>\n",
       "      <td>0</td>\n",
       "      <td>1</td>\n",
       "      <td>4</td>\n",
       "      <td>0</td>\n",
       "      <td>115336</td>\n",
       "      <td>18033</td>\n",
       "      <td>37569</td>\n",
       "      <td>1624</td>\n",
       "      <td>2009-01-06</td>\n",
       "      <td>0</td>\n",
       "      <td>1.4.0</td>\n",
       "    </tr>\n",
       "    <tr>\n",
       "      <th>1</th>\n",
       "      <td>1</td>\n",
       "      <td>1</td>\n",
       "      <td>5</td>\n",
       "      <td>0</td>\n",
       "      <td>129319</td>\n",
       "      <td>20261</td>\n",
       "      <td>44820</td>\n",
       "      <td>1705</td>\n",
       "      <td>2009-02-18</td>\n",
       "      <td>43</td>\n",
       "      <td>1.5.0</td>\n",
       "    </tr>\n",
       "    <tr>\n",
       "      <th>2</th>\n",
       "      <td>2</td>\n",
       "      <td>1</td>\n",
       "      <td>5</td>\n",
       "      <td>1</td>\n",
       "      <td>133424</td>\n",
       "      <td>20780</td>\n",
       "      <td>44377</td>\n",
       "      <td>1784</td>\n",
       "      <td>2009-08-05</td>\n",
       "      <td>211</td>\n",
       "      <td>1.5.1</td>\n",
       "    </tr>\n",
       "    <tr>\n",
       "      <th>3</th>\n",
       "      <td>3</td>\n",
       "      <td>1</td>\n",
       "      <td>5</td>\n",
       "      <td>2</td>\n",
       "      <td>134275</td>\n",
       "      <td>20719</td>\n",
       "      <td>38184</td>\n",
       "      <td>1796</td>\n",
       "      <td>2009-08-17</td>\n",
       "      <td>223</td>\n",
       "      <td>1.5.2</td>\n",
       "    </tr>\n",
       "    <tr>\n",
       "      <th>4</th>\n",
       "      <td>4</td>\n",
       "      <td>1</td>\n",
       "      <td>6</td>\n",
       "      <td>1</td>\n",
       "      <td>152705</td>\n",
       "      <td>23755</td>\n",
       "      <td>65761</td>\n",
       "      <td>1923</td>\n",
       "      <td>2009-11-05</td>\n",
       "      <td>303</td>\n",
       "      <td>1.6.1</td>\n",
       "    </tr>\n",
       "    <tr>\n",
       "      <th>5</th>\n",
       "      <td>5</td>\n",
       "      <td>2</td>\n",
       "      <td>0</td>\n",
       "      <td>0</td>\n",
       "      <td>181316</td>\n",
       "      <td>27549</td>\n",
       "      <td>67567</td>\n",
       "      <td>2251</td>\n",
       "      <td>2010-06-05</td>\n",
       "      <td>515</td>\n",
       "      <td>2.0.0</td>\n",
       "    </tr>\n",
       "    <tr>\n",
       "      <th>6</th>\n",
       "      <td>6</td>\n",
       "      <td>2</td>\n",
       "      <td>0</td>\n",
       "      <td>1</td>\n",
       "      <td>181826</td>\n",
       "      <td>27681</td>\n",
       "      <td>67584</td>\n",
       "      <td>2255</td>\n",
       "      <td>2010-07-06</td>\n",
       "      <td>546</td>\n",
       "      <td>2.0.1</td>\n",
       "    </tr>\n",
       "    <tr>\n",
       "      <th>7</th>\n",
       "      <td>7</td>\n",
       "      <td>3</td>\n",
       "      <td>0</td>\n",
       "      <td>0</td>\n",
       "      <td>255305</td>\n",
       "      <td>39181</td>\n",
       "      <td>87179</td>\n",
       "      <td>2894</td>\n",
       "      <td>2012-02-07</td>\n",
       "      <td>1127</td>\n",
       "      <td>3.0.0</td>\n",
       "    </tr>\n",
       "    <tr>\n",
       "      <th>8</th>\n",
       "      <td>8</td>\n",
       "      <td>3</td>\n",
       "      <td>0</td>\n",
       "      <td>1</td>\n",
       "      <td>256081</td>\n",
       "      <td>39290</td>\n",
       "      <td>87887</td>\n",
       "      <td>2896</td>\n",
       "      <td>2012-03-12</td>\n",
       "      <td>1161</td>\n",
       "      <td>3.0.1</td>\n",
       "    </tr>\n",
       "    <tr>\n",
       "      <th>9</th>\n",
       "      <td>9</td>\n",
       "      <td>3</td>\n",
       "      <td>1</td>\n",
       "      <td>0</td>\n",
       "      <td>258194</td>\n",
       "      <td>39307</td>\n",
       "      <td>88912</td>\n",
       "      <td>2837</td>\n",
       "      <td>2012-06-22</td>\n",
       "      <td>1263</td>\n",
       "      <td>3.1.0</td>\n",
       "    </tr>\n",
       "    <tr>\n",
       "      <th>10</th>\n",
       "      <td>10</td>\n",
       "      <td>3</td>\n",
       "      <td>1</td>\n",
       "      <td>1</td>\n",
       "      <td>258951</td>\n",
       "      <td>39420</td>\n",
       "      <td>89215</td>\n",
       "      <td>2840</td>\n",
       "      <td>2012-09-17</td>\n",
       "      <td>1350</td>\n",
       "      <td>3.1.1</td>\n",
       "    </tr>\n",
       "    <tr>\n",
       "      <th>11</th>\n",
       "      <td>11</td>\n",
       "      <td>3</td>\n",
       "      <td>1</td>\n",
       "      <td>2</td>\n",
       "      <td>259038</td>\n",
       "      <td>39435</td>\n",
       "      <td>89243</td>\n",
       "      <td>2841</td>\n",
       "      <td>2012-09-27</td>\n",
       "      <td>1360</td>\n",
       "      <td>3.1.2</td>\n",
       "    </tr>\n",
       "    <tr>\n",
       "      <th>12</th>\n",
       "      <td>12</td>\n",
       "      <td>3</td>\n",
       "      <td>2</td>\n",
       "      <td>0</td>\n",
       "      <td>323616</td>\n",
       "      <td>52380</td>\n",
       "      <td>140778</td>\n",
       "      <td>3104</td>\n",
       "      <td>2012-12-17</td>\n",
       "      <td>1441</td>\n",
       "      <td>3.2.0</td>\n",
       "    </tr>\n",
       "    <tr>\n",
       "      <th>13</th>\n",
       "      <td>13</td>\n",
       "      <td>3</td>\n",
       "      <td>2</td>\n",
       "      <td>1</td>\n",
       "      <td>325885</td>\n",
       "      <td>52767</td>\n",
       "      <td>141157</td>\n",
       "      <td>3108</td>\n",
       "      <td>2013-02-28</td>\n",
       "      <td>1514</td>\n",
       "      <td>3.2.1</td>\n",
       "    </tr>\n",
       "    <tr>\n",
       "      <th>14</th>\n",
       "      <td>14</td>\n",
       "      <td>3</td>\n",
       "      <td>2</td>\n",
       "      <td>2</td>\n",
       "      <td>325827</td>\n",
       "      <td>52749</td>\n",
       "      <td>141120</td>\n",
       "      <td>3104</td>\n",
       "      <td>2013-04-16</td>\n",
       "      <td>1561</td>\n",
       "      <td>3.2.2</td>\n",
       "    </tr>\n",
       "    <tr>\n",
       "      <th>15</th>\n",
       "      <td>15</td>\n",
       "      <td>3</td>\n",
       "      <td>3</td>\n",
       "      <td>0</td>\n",
       "      <td>416155</td>\n",
       "      <td>67460</td>\n",
       "      <td>180168</td>\n",
       "      <td>3750</td>\n",
       "      <td>2013-06-20</td>\n",
       "      <td>1626</td>\n",
       "      <td>3.3.0</td>\n",
       "    </tr>\n",
       "    <tr>\n",
       "      <th>16</th>\n",
       "      <td>16</td>\n",
       "      <td>3</td>\n",
       "      <td>3</td>\n",
       "      <td>1</td>\n",
       "      <td>424897</td>\n",
       "      <td>68849</td>\n",
       "      <td>181951</td>\n",
       "      <td>3827</td>\n",
       "      <td>2013-09-11</td>\n",
       "      <td>1709</td>\n",
       "      <td>3.3.1</td>\n",
       "    </tr>\n",
       "    <tr>\n",
       "      <th>17</th>\n",
       "      <td>17</td>\n",
       "      <td>3</td>\n",
       "      <td>3</td>\n",
       "      <td>2</td>\n",
       "      <td>425114</td>\n",
       "      <td>68870</td>\n",
       "      <td>181978</td>\n",
       "      <td>3827</td>\n",
       "      <td>2013-10-24</td>\n",
       "      <td>1752</td>\n",
       "      <td>3.3.2</td>\n",
       "    </tr>\n",
       "    <tr>\n",
       "      <th>18</th>\n",
       "      <td>18</td>\n",
       "      <td>3</td>\n",
       "      <td>4</td>\n",
       "      <td>0</td>\n",
       "      <td>356711</td>\n",
       "      <td>56997</td>\n",
       "      <td>170462</td>\n",
       "      <td>3427</td>\n",
       "      <td>2013-10-24</td>\n",
       "      <td>1752</td>\n",
       "      <td>3.4.0</td>\n",
       "    </tr>\n",
       "    <tr>\n",
       "      <th>19</th>\n",
       "      <td>19</td>\n",
       "      <td>3</td>\n",
       "      <td>4</td>\n",
       "      <td>1</td>\n",
       "      <td>356606</td>\n",
       "      <td>57092</td>\n",
       "      <td>170586</td>\n",
       "      <td>3432</td>\n",
       "      <td>2013-12-16</td>\n",
       "      <td>1805</td>\n",
       "      <td>3.4.1</td>\n",
       "    </tr>\n",
       "    <tr>\n",
       "      <th>20</th>\n",
       "      <td>20</td>\n",
       "      <td>3</td>\n",
       "      <td>4</td>\n",
       "      <td>2</td>\n",
       "      <td>357060</td>\n",
       "      <td>57139</td>\n",
       "      <td>170593</td>\n",
       "      <td>3432</td>\n",
       "      <td>2014-02-25</td>\n",
       "      <td>1876</td>\n",
       "      <td>3.4.2</td>\n",
       "    </tr>\n",
       "    <tr>\n",
       "      <th>21</th>\n",
       "      <td>21</td>\n",
       "      <td>4</td>\n",
       "      <td>0</td>\n",
       "      <td>0</td>\n",
       "      <td>422093</td>\n",
       "      <td>66220</td>\n",
       "      <td>179895</td>\n",
       "      <td>3820</td>\n",
       "      <td>2014-05-30</td>\n",
       "      <td>1970</td>\n",
       "      <td>4.0.0</td>\n",
       "    </tr>\n",
       "    <tr>\n",
       "      <th>22</th>\n",
       "      <td>22</td>\n",
       "      <td>4</td>\n",
       "      <td>0</td>\n",
       "      <td>1</td>\n",
       "      <td>419734</td>\n",
       "      <td>65988</td>\n",
       "      <td>179947</td>\n",
       "      <td>3822</td>\n",
       "      <td>2014-08-04</td>\n",
       "      <td>2036</td>\n",
       "      <td>4.0.1</td>\n",
       "    </tr>\n",
       "    <tr>\n",
       "      <th>23</th>\n",
       "      <td>23</td>\n",
       "      <td>4</td>\n",
       "      <td>0</td>\n",
       "      <td>2</td>\n",
       "      <td>420252</td>\n",
       "      <td>66093</td>\n",
       "      <td>180368</td>\n",
       "      <td>3828</td>\n",
       "      <td>2014-11-03</td>\n",
       "      <td>2127</td>\n",
       "      <td>4.0.2</td>\n",
       "    </tr>\n",
       "    <tr>\n",
       "      <th>24</th>\n",
       "      <td>24</td>\n",
       "      <td>4</td>\n",
       "      <td>1</td>\n",
       "      <td>0</td>\n",
       "      <td>483211</td>\n",
       "      <td>77090</td>\n",
       "      <td>226741</td>\n",
       "      <td>4241</td>\n",
       "      <td>2015-01-28</td>\n",
       "      <td>2213</td>\n",
       "      <td>4.1.0</td>\n",
       "    </tr>\n",
       "    <tr>\n",
       "      <th>25</th>\n",
       "      <td>25</td>\n",
       "      <td>4</td>\n",
       "      <td>1</td>\n",
       "      <td>1</td>\n",
       "      <td>486044</td>\n",
       "      <td>77357</td>\n",
       "      <td>226294</td>\n",
       "      <td>4230</td>\n",
       "      <td>2015-05-07</td>\n",
       "      <td>2312</td>\n",
       "      <td>4.1.1</td>\n",
       "    </tr>\n",
       "    <tr>\n",
       "      <th>26</th>\n",
       "      <td>26</td>\n",
       "      <td>4</td>\n",
       "      <td>1</td>\n",
       "      <td>2</td>\n",
       "      <td>486410</td>\n",
       "      <td>77411</td>\n",
       "      <td>226363</td>\n",
       "      <td>4230</td>\n",
       "      <td>2015-07-28</td>\n",
       "      <td>2394</td>\n",
       "      <td>4.1.2</td>\n",
       "    </tr>\n",
       "    <tr>\n",
       "      <th>27</th>\n",
       "      <td>27</td>\n",
       "      <td>4</td>\n",
       "      <td>2</td>\n",
       "      <td>0</td>\n",
       "      <td>499671</td>\n",
       "      <td>78935</td>\n",
       "      <td>234397</td>\n",
       "      <td>4297</td>\n",
       "      <td>2015-10-22</td>\n",
       "      <td>2480</td>\n",
       "      <td>4.2.0</td>\n",
       "    </tr>\n",
       "    <tr>\n",
       "      <th>28</th>\n",
       "      <td>28</td>\n",
       "      <td>4</td>\n",
       "      <td>2</td>\n",
       "      <td>1</td>\n",
       "      <td>500161</td>\n",
       "      <td>79043</td>\n",
       "      <td>234453</td>\n",
       "      <td>4296</td>\n",
       "      <td>2015-12-07</td>\n",
       "      <td>2526</td>\n",
       "      <td>4.2.1</td>\n",
       "    </tr>\n",
       "    <tr>\n",
       "      <th>29</th>\n",
       "      <td>29</td>\n",
       "      <td>4</td>\n",
       "      <td>2</td>\n",
       "      <td>2</td>\n",
       "      <td>501035</td>\n",
       "      <td>79137</td>\n",
       "      <td>234639</td>\n",
       "      <td>4299</td>\n",
       "      <td>2016-04-27</td>\n",
       "      <td>2668</td>\n",
       "      <td>4.2.2</td>\n",
       "    </tr>\n",
       "    <tr>\n",
       "      <th>30</th>\n",
       "      <td>30</td>\n",
       "      <td>4</td>\n",
       "      <td>3</td>\n",
       "      <td>0</td>\n",
       "      <td>515659</td>\n",
       "      <td>79336</td>\n",
       "      <td>233230</td>\n",
       "      <td>4198</td>\n",
       "      <td>2016-08-09</td>\n",
       "      <td>2772</td>\n",
       "      <td>4.3.0</td>\n",
       "    </tr>\n",
       "    <tr>\n",
       "      <th>31</th>\n",
       "      <td>31</td>\n",
       "      <td>4</td>\n",
       "      <td>3</td>\n",
       "      <td>1</td>\n",
       "      <td>515924</td>\n",
       "      <td>79361</td>\n",
       "      <td>233247</td>\n",
       "      <td>4196</td>\n",
       "      <td>2016-12-14</td>\n",
       "      <td>2899</td>\n",
       "      <td>4.3.1</td>\n",
       "    </tr>\n",
       "    <tr>\n",
       "      <th>32</th>\n",
       "      <td>32</td>\n",
       "      <td>4</td>\n",
       "      <td>4</td>\n",
       "      <td>0</td>\n",
       "      <td>532121</td>\n",
       "      <td>82317</td>\n",
       "      <td>229918</td>\n",
       "      <td>4378</td>\n",
       "      <td>2017-03-07</td>\n",
       "      <td>2982</td>\n",
       "      <td>4.4.0</td>\n",
       "    </tr>\n",
       "    <tr>\n",
       "      <th>33</th>\n",
       "      <td>33</td>\n",
       "      <td>4</td>\n",
       "      <td>4</td>\n",
       "      <td>1</td>\n",
       "      <td>532915</td>\n",
       "      <td>82355</td>\n",
       "      <td>229985</td>\n",
       "      <td>4376</td>\n",
       "      <td>2017-05-08</td>\n",
       "      <td>3044</td>\n",
       "      <td>4.4.1</td>\n",
       "    </tr>\n",
       "    <tr>\n",
       "      <th>34</th>\n",
       "      <td>34</td>\n",
       "      <td>4</td>\n",
       "      <td>4</td>\n",
       "      <td>2</td>\n",
       "      <td>533292</td>\n",
       "      <td>82399</td>\n",
       "      <td>230058</td>\n",
       "      <td>4377</td>\n",
       "      <td>2017-08-30</td>\n",
       "      <td>3158</td>\n",
       "      <td>4.4.2</td>\n",
       "    </tr>\n",
       "  </tbody>\n",
       "</table>\n",
       "</div>"
      ],
      "text/plain": [
       "    Unnamed: 0  major  minor  patch  nb_code  nb_blank  nb_comment  nb_nfiles  \\\n",
       "0            0      1      4      0   115336     18033       37569       1624   \n",
       "1            1      1      5      0   129319     20261       44820       1705   \n",
       "2            2      1      5      1   133424     20780       44377       1784   \n",
       "3            3      1      5      2   134275     20719       38184       1796   \n",
       "4            4      1      6      1   152705     23755       65761       1923   \n",
       "5            5      2      0      0   181316     27549       67567       2251   \n",
       "6            6      2      0      1   181826     27681       67584       2255   \n",
       "7            7      3      0      0   255305     39181       87179       2894   \n",
       "8            8      3      0      1   256081     39290       87887       2896   \n",
       "9            9      3      1      0   258194     39307       88912       2837   \n",
       "10          10      3      1      1   258951     39420       89215       2840   \n",
       "11          11      3      1      2   259038     39435       89243       2841   \n",
       "12          12      3      2      0   323616     52380      140778       3104   \n",
       "13          13      3      2      1   325885     52767      141157       3108   \n",
       "14          14      3      2      2   325827     52749      141120       3104   \n",
       "15          15      3      3      0   416155     67460      180168       3750   \n",
       "16          16      3      3      1   424897     68849      181951       3827   \n",
       "17          17      3      3      2   425114     68870      181978       3827   \n",
       "18          18      3      4      0   356711     56997      170462       3427   \n",
       "19          19      3      4      1   356606     57092      170586       3432   \n",
       "20          20      3      4      2   357060     57139      170593       3432   \n",
       "21          21      4      0      0   422093     66220      179895       3820   \n",
       "22          22      4      0      1   419734     65988      179947       3822   \n",
       "23          23      4      0      2   420252     66093      180368       3828   \n",
       "24          24      4      1      0   483211     77090      226741       4241   \n",
       "25          25      4      1      1   486044     77357      226294       4230   \n",
       "26          26      4      1      2   486410     77411      226363       4230   \n",
       "27          27      4      2      0   499671     78935      234397       4297   \n",
       "28          28      4      2      1   500161     79043      234453       4296   \n",
       "29          29      4      2      2   501035     79137      234639       4299   \n",
       "30          30      4      3      0   515659     79336      233230       4198   \n",
       "31          31      4      3      1   515924     79361      233247       4196   \n",
       "32          32      4      4      0   532121     82317      229918       4378   \n",
       "33          33      4      4      1   532915     82355      229985       4376   \n",
       "34          34      4      4      2   533292     82399      230058       4377   \n",
       "\n",
       "          date  relative_day major.minor.patch  \n",
       "0   2009-01-06             0             1.4.0  \n",
       "1   2009-02-18            43             1.5.0  \n",
       "2   2009-08-05           211             1.5.1  \n",
       "3   2009-08-17           223             1.5.2  \n",
       "4   2009-11-05           303             1.6.1  \n",
       "5   2010-06-05           515             2.0.0  \n",
       "6   2010-07-06           546             2.0.1  \n",
       "7   2012-02-07          1127             3.0.0  \n",
       "8   2012-03-12          1161             3.0.1  \n",
       "9   2012-06-22          1263             3.1.0  \n",
       "10  2012-09-17          1350             3.1.1  \n",
       "11  2012-09-27          1360             3.1.2  \n",
       "12  2012-12-17          1441             3.2.0  \n",
       "13  2013-02-28          1514             3.2.1  \n",
       "14  2013-04-16          1561             3.2.2  \n",
       "15  2013-06-20          1626             3.3.0  \n",
       "16  2013-09-11          1709             3.3.1  \n",
       "17  2013-10-24          1752             3.3.2  \n",
       "18  2013-10-24          1752             3.4.0  \n",
       "19  2013-12-16          1805             3.4.1  \n",
       "20  2014-02-25          1876             3.4.2  \n",
       "21  2014-05-30          1970             4.0.0  \n",
       "22  2014-08-04          2036             4.0.1  \n",
       "23  2014-11-03          2127             4.0.2  \n",
       "24  2015-01-28          2213             4.1.0  \n",
       "25  2015-05-07          2312             4.1.1  \n",
       "26  2015-07-28          2394             4.1.2  \n",
       "27  2015-10-22          2480             4.2.0  \n",
       "28  2015-12-07          2526             4.2.1  \n",
       "29  2016-04-27          2668             4.2.2  \n",
       "30  2016-08-09          2772             4.3.0  \n",
       "31  2016-12-14          2899             4.3.1  \n",
       "32  2017-03-07          2982             4.4.0  \n",
       "33  2017-05-08          3044             4.4.1  \n",
       "34  2017-08-30          3158             4.4.2  "
      ]
     },
     "execution_count": 88,
     "metadata": {},
     "output_type": "execute_result"
    }
   ],
   "source": [
    "major_minor_patch"
   ]
  },
  {
   "cell_type": "code",
   "execution_count": 99,
   "id": "70749ee7-78a8-4344-90cb-2ff0b6a0572f",
   "metadata": {},
   "outputs": [],
   "source": [
    "# Your code for correlation\n",
    "# Using Spearman correlation coefficient to measure the strength of the relationship between number of lines of code and number of files\n",
    "from scipy.stats import spearmanr, pearsonr\n",
    "pearson_corr, _ = pearsonr(major_minor_patch['nb_code'], major_minor_patch['nb_nfiles'])\n",
    "spearman_corr, _ = spearmanr(major_minor_patch['nb_code'], major_minor_patch['nb_nfiles'])\n",
    "\n",
    "pearson_corr = round(pearson_corr, 3)\n",
    "spearman_corr = round(spearman_corr, 3)\n",
    "\n"
   ]
  },
  {
   "cell_type": "code",
   "execution_count": 100,
   "id": "ce354929",
   "metadata": {},
   "outputs": [
    {
     "data": {
      "text/plain": [
       "0.993"
      ]
     },
     "execution_count": 100,
     "metadata": {},
     "output_type": "execute_result"
    }
   ],
   "source": [
    "pearson_corr"
   ]
  },
  {
   "cell_type": "code",
   "execution_count": 101,
   "id": "8472e2d5",
   "metadata": {},
   "outputs": [
    {
     "data": {
      "text/plain": [
       "0.977"
      ]
     },
     "execution_count": 101,
     "metadata": {},
     "output_type": "execute_result"
    }
   ],
   "source": [
    "spearman_corr"
   ]
  },
  {
   "cell_type": "markdown",
   "id": "3e8f82aa-ce42-4355-8de1-916e371f5af2",
   "metadata": {},
   "source": [
    "### Questions:\n",
    "4. Do you find any difference in correlation values between Pearson and Spearman? Which one is preferable for this use case? why?"
   ]
  },
  {
   "attachments": {},
   "cell_type": "markdown",
   "id": "b6e1599e-113c-4bfa-9c0b-eac18aae3a27",
   "metadata": {},
   "source": [
    "Pearson coefficient is higher than spearman coefficient. I think it's because the data is not linear. So, we should use spearman coefficient. Pearson is used for linear data"
   ]
  },
  {
   "cell_type": "markdown",
   "id": "fb9a8312-20fd-41f7-875e-668761a998a6",
   "metadata": {},
   "source": [
    "5. Based on the above correlation value, how much is the number of lines of code related to the number of files?"
   ]
  },
  {
   "attachments": {},
   "cell_type": "markdown",
   "id": "4ebe75dc-cb80-469b-909d-ca4293365f25",
   "metadata": {},
   "source": [
    "The number of lines of code related to the number of files, based on spearman coefficient, is 0.977%"
   ]
  },
  {
   "cell_type": "markdown",
   "id": "72e2ea6c-cb13-4dae-8666-ed599c928efe",
   "metadata": {},
   "source": [
    "### Prediction\n",
    "Consider Dataset A for this task. Drop the last two data points in \"number of lines of code\" (LOC) (i.e. drop (LOC) corresponding to v4.4.1 and v4.4.2) and forecast the values for (LOC) for v4.4.1 and v4.4.2 using a basic linear/polynimial regression model.\n",
    "1. Drop the last two data points\n",
    "2. Build a basic regression model\n",
    "3. Ask the model to forecast the next two data points\n",
    "4. Plot the LOC original and forecasted in the same plot. x-axis = date, y-axis = number of lines of code"
   ]
  },
  {
   "cell_type": "code",
   "execution_count": 103,
   "id": "bd3262f9",
   "metadata": {},
   "outputs": [],
   "source": [
    "major_minor_patch_copy = major_minor_patch.copy()\n"
   ]
  },
  {
   "cell_type": "code",
   "execution_count": 107,
   "id": "bff2ccbb",
   "metadata": {},
   "outputs": [],
   "source": [
    "dropped_rows = major_minor_patch_copy.drop(major_minor_patch_copy.tail(2).index,inplace=True)"
   ]
  },
  {
   "cell_type": "code",
   "execution_count": 111,
   "id": "c147ad76",
   "metadata": {},
   "outputs": [],
   "source": [
    "dropped_rows = major_minor_patch.tail(2)"
   ]
  },
  {
   "cell_type": "code",
   "execution_count": 112,
   "id": "ee125453",
   "metadata": {},
   "outputs": [
    {
     "data": {
      "text/html": [
       "<div>\n",
       "<style scoped>\n",
       "    .dataframe tbody tr th:only-of-type {\n",
       "        vertical-align: middle;\n",
       "    }\n",
       "\n",
       "    .dataframe tbody tr th {\n",
       "        vertical-align: top;\n",
       "    }\n",
       "\n",
       "    .dataframe thead th {\n",
       "        text-align: right;\n",
       "    }\n",
       "</style>\n",
       "<table border=\"1\" class=\"dataframe\">\n",
       "  <thead>\n",
       "    <tr style=\"text-align: right;\">\n",
       "      <th></th>\n",
       "      <th>Unnamed: 0</th>\n",
       "      <th>major</th>\n",
       "      <th>minor</th>\n",
       "      <th>patch</th>\n",
       "      <th>nb_code</th>\n",
       "      <th>nb_blank</th>\n",
       "      <th>nb_comment</th>\n",
       "      <th>nb_nfiles</th>\n",
       "      <th>date</th>\n",
       "      <th>relative_day</th>\n",
       "      <th>major.minor.patch</th>\n",
       "    </tr>\n",
       "  </thead>\n",
       "  <tbody>\n",
       "    <tr>\n",
       "      <th>33</th>\n",
       "      <td>33</td>\n",
       "      <td>4</td>\n",
       "      <td>4</td>\n",
       "      <td>1</td>\n",
       "      <td>532915</td>\n",
       "      <td>82355</td>\n",
       "      <td>229985</td>\n",
       "      <td>4376</td>\n",
       "      <td>2017-05-08</td>\n",
       "      <td>3044</td>\n",
       "      <td>4.4.1</td>\n",
       "    </tr>\n",
       "    <tr>\n",
       "      <th>34</th>\n",
       "      <td>34</td>\n",
       "      <td>4</td>\n",
       "      <td>4</td>\n",
       "      <td>2</td>\n",
       "      <td>533292</td>\n",
       "      <td>82399</td>\n",
       "      <td>230058</td>\n",
       "      <td>4377</td>\n",
       "      <td>2017-08-30</td>\n",
       "      <td>3158</td>\n",
       "      <td>4.4.2</td>\n",
       "    </tr>\n",
       "  </tbody>\n",
       "</table>\n",
       "</div>"
      ],
      "text/plain": [
       "    Unnamed: 0  major  minor  patch  nb_code  nb_blank  nb_comment  nb_nfiles  \\\n",
       "33          33      4      4      1   532915     82355      229985       4376   \n",
       "34          34      4      4      2   533292     82399      230058       4377   \n",
       "\n",
       "          date  relative_day major.minor.patch  \n",
       "33  2017-05-08          3044             4.4.1  \n",
       "34  2017-08-30          3158             4.4.2  "
      ]
     },
     "execution_count": 112,
     "metadata": {},
     "output_type": "execute_result"
    }
   ],
   "source": [
    "dropped_rows"
   ]
  },
  {
   "cell_type": "code",
   "execution_count": 114,
   "id": "1a8b2e38-2975-439e-81d3-8c6dc46ccab9",
   "metadata": {},
   "outputs": [
    {
     "data": {
      "text/plain": [
       "LinearRegression()"
      ]
     },
     "execution_count": 114,
     "metadata": {},
     "output_type": "execute_result"
    }
   ],
   "source": [
    "# Your code here\n",
    "lr_lines = LinearRegression()\n",
    "lr_lines.fit(major_minor_patch['date'].astype('category').cat.codes.values.reshape(-1,1),major_minor_patch['nb_code'].values.reshape(-1,1))\n"
   ]
  },
  {
   "cell_type": "code",
   "execution_count": null,
   "id": "e6141273-c4f5-44a9-ac5d-a548b7a7a189",
   "metadata": {},
   "outputs": [],
   "source": [
    "lr_lines.predict(dropped_rows['date'].astype('category').cat.codes.values.reshape(-1,1))\n",
    "# Your code here"
   ]
  },
  {
   "cell_type": "code",
   "execution_count": null,
   "id": "7db7464c-88d3-492d-9078-42e899757af2",
   "metadata": {},
   "outputs": [],
   "source": [
    "# Your code here"
   ]
  },
  {
   "cell_type": "code",
   "execution_count": null,
   "id": "e67d1b02-fc45-480a-8e03-d9a291636a33",
   "metadata": {},
   "outputs": [],
   "source": [
    "# Your plotting code here"
   ]
  },
  {
   "cell_type": "markdown",
   "id": "8bdd2798-1e93-4beb-8339-4e408d3c39c2",
   "metadata": {},
   "source": [
    "### Questions:\n",
    "6. What is the polynomial degree that you adopted to build the model? Why? "
   ]
  },
  {
   "cell_type": "markdown",
   "id": "f3c421f9-c6f2-4350-8ded-a70a974c86d0",
   "metadata": {},
   "source": []
  },
  {
   "cell_type": "markdown",
   "id": "6a98e16e-1114-4f4b-9867-3f60019ee45f",
   "metadata": {},
   "source": [
    "7. What is the coefficient of determination? (R-squared)"
   ]
  },
  {
   "cell_type": "markdown",
   "id": "0954e7aa-cedd-4f1b-bce2-7793c0cf04c7",
   "metadata": {},
   "source": []
  },
  {
   "cell_type": "markdown",
   "id": "e621e18e-26a2-4cf5-ab5c-162d87b5889d",
   "metadata": {},
   "source": [
    "8. What is the Root mean square error for the forecasted values?"
   ]
  },
  {
   "cell_type": "markdown",
   "id": "e9e7d092-76af-470a-b85b-563ae5613cf8",
   "metadata": {},
   "source": []
  },
  {
   "cell_type": "markdown",
   "id": "393f2a07-2dd7-4ab3-86c7-0b0ba07f046b",
   "metadata": {},
   "source": [
    "### Filtering on coding langugage"
   ]
  },
  {
   "cell_type": "markdown",
   "id": "76c3ed66-711b-4f01-af30-dac4f927bc88",
   "metadata": {},
   "source": [
    "Consider the prominent langugages used in this software project and plot the distribution of their LOC in a pie chart for the first and the last versions"
   ]
  },
  {
   "cell_type": "code",
   "execution_count": null,
   "id": "9fb22e22-5b37-4a67-9d43-dab4121fa83d",
   "metadata": {},
   "outputs": [],
   "source": [
    "# Your code to get the data for LOC of first and last versions"
   ]
  },
  {
   "cell_type": "code",
   "execution_count": null,
   "id": "dc14b7fe-b4d2-423c-b9c8-b79eb498ef3c",
   "metadata": {},
   "outputs": [],
   "source": [
    "# Your pie chart code here"
   ]
  },
  {
   "cell_type": "markdown",
   "id": "056e7d22-fee2-4efb-ace7-c06b99edbd36",
   "metadata": {},
   "source": [
    "### Question:\n",
    "9. Do you find any significant difference in the distribution of the language used in the software project between its first and the last version? If so, what is the difference and how much is it?"
   ]
  },
  {
   "cell_type": "code",
   "execution_count": null,
   "id": "8397df5e-e0cd-4608-8e28-d94240b7ace9",
   "metadata": {},
   "outputs": [],
   "source": []
  },
  {
   "cell_type": "markdown",
   "id": "44d37ce7-c3ad-4eb9-a7e6-b7f52ac137c1",
   "metadata": {},
   "source": [
    "### Law of increasing growth for coding langugages"
   ]
  },
  {
   "cell_type": "markdown",
   "id": "ededc08c-1bd4-4725-984a-61a71aa240c6",
   "metadata": {},
   "source": [
    "Get the LOC for each of the considered prominent langugages (as above) for each version of the form major.minor.patch  \n",
    "1) Plot the date (x-axis) vs LOC (y-axis) \n",
    "2) Plot the date (x-axis) vs proportional LOC (y-axis). Proportional is LOC of a language/total number of LOC"
   ]
  },
  {
   "cell_type": "code",
   "execution_count": null,
   "id": "ccd66fa9-c455-4339-bf42-e9b881d6ffad",
   "metadata": {},
   "outputs": [],
   "source": [
    "# Your code to get the LOC for each prominent language of each version"
   ]
  },
  {
   "cell_type": "code",
   "execution_count": null,
   "id": "bf843988-362f-4486-9e49-5a641c1d04dc",
   "metadata": {},
   "outputs": [],
   "source": [
    "# Your plotting code here"
   ]
  },
  {
   "cell_type": "markdown",
   "id": "ea3b1876-ad5a-4f90-96e8-ed07e2852101",
   "metadata": {},
   "source": [
    "### Question:\n",
    "10. Does the prominent languages considered by you obey laws of increasing growth?"
   ]
  },
  {
   "cell_type": "markdown",
   "id": "8df7db15-f203-41d6-9bd6-eccf2f9742b5",
   "metadata": {},
   "source": []
  },
  {
   "cell_type": "markdown",
   "id": "478c66e4-4f20-4ed8-98db-70bdcf920fcd",
   "metadata": {},
   "source": [
    "11. Does this software project obey the Law of Increasing Growth?"
   ]
  },
  {
   "cell_type": "markdown",
   "id": "26146858-0cb6-4fd8-9a6b-debef98390b7",
   "metadata": {},
   "source": []
  },
  {
   "cell_type": "markdown",
   "id": "375ae835-c18c-4af3-a730-32d853df034a",
   "metadata": {},
   "source": [
    "### Modify the CLOC parameters"
   ]
  },
  {
   "cell_type": "markdown",
   "id": "b3d71b90-1492-4833-9c0a-c8a0f7446ada",
   "metadata": {},
   "source": [
    "1. Exclude all bank lines and verify if the Law of Increasing Growth still holds good for this filtering"
   ]
  },
  {
   "cell_type": "code",
   "execution_count": null,
   "id": "ff129b14-94ae-460c-bcb3-981180e72db3",
   "metadata": {},
   "outputs": [],
   "source": [
    "# Your code and plot here"
   ]
  },
  {
   "cell_type": "markdown",
   "id": "5cb0cee6-19b3-4e50-8cb5-82eb50736713",
   "metadata": {},
   "source": [
    "2. Exclude all comment lines and verify if the Law of Increasing Growth still holds good for this filtering"
   ]
  },
  {
   "cell_type": "code",
   "execution_count": null,
   "id": "7d971a34-fe97-4793-9864-07b2114ed373",
   "metadata": {},
   "outputs": [],
   "source": [
    "# Your code and plot here"
   ]
  },
  {
   "cell_type": "markdown",
   "id": "16cfd99a-0a91-497d-a1f9-4d7a8d407736",
   "metadata": {},
   "source": [
    "3. Exclude all non-code files (or consider prominent coding langugages used in the project) and and verify if the Law of Increasing Growth still holds good for this filtering"
   ]
  },
  {
   "cell_type": "code",
   "execution_count": null,
   "id": "d4981a7f-f79a-4e62-9ba3-94723a0ad640",
   "metadata": {},
   "outputs": [],
   "source": [
    "# Your code and plot here"
   ]
  },
  {
   "cell_type": "code",
   "execution_count": null,
   "id": "bc0d6002-1014-43d0-8dfc-dae6a8680a04",
   "metadata": {},
   "outputs": [],
   "source": []
  },
  {
   "cell_type": "markdown",
   "id": "5dfd05d1-2dc8-4abc-8d05-639007bf553e",
   "metadata": {},
   "source": [
    "### 2.3 Law of Continuing Change\n",
    "1. Using CLOC tool, find the features such as number of lines of code that are added, modified, removed and same between two consecutive versions\n",
    "2. Consider all the three component versions (major.minor.patch) - Dataset A\n",
    "3. Consider only the minor versions (major.minor) - Dataset B\n",
    "4. Having all the features in the same plot, create two plots (one for Dataset A and another for Dataset B) the outcomes with date on x-axis and the number on y-axis.\n",
    "5. Make a subplot of all the features\n",
    "\n",
    "Code hint:  \n",
    "For each pair of tags, set the original project to the required tag and the copy of the original project to the next tag.  \n",
    "To get the required data in json format - \"command = f'CLOC/cloc --git --diff {first_project_path} {second_project_path} --json'\""
   ]
  },
  {
   "cell_type": "code",
   "execution_count": null,
   "id": "c38f5e8d-245b-4307-9d98-2340cbea06a1",
   "metadata": {},
   "outputs": [],
   "source": [
    "eucalyptus_project_path = '' # your project path here\n",
    "eucalyptus_copy_project_path = '' # your path to the copy of your project here\n",
    "major_minor_patch_versions = '' #set of version that you would like to consider for this analysis"
   ]
  },
  {
   "cell_type": "code",
   "execution_count": null,
   "id": "f0682e1c-dd84-4f31-bdfa-781e5a6ac75f",
   "metadata": {},
   "outputs": [],
   "source": [
    "# Your code here to get the data"
   ]
  },
  {
   "cell_type": "code",
   "execution_count": null,
   "id": "7b5f935d-dc48-4b97-8d5c-9168e372bb47",
   "metadata": {},
   "outputs": [],
   "source": [
    "# Your code here to get the dates corresponding to the tags"
   ]
  },
  {
   "cell_type": "code",
   "execution_count": null,
   "id": "8500a388-8c65-4203-81df-156a9425b67e",
   "metadata": {},
   "outputs": [],
   "source": [
    "# Your plotting code here (all the features in a single plot)"
   ]
  },
  {
   "cell_type": "code",
   "execution_count": null,
   "id": "9505d1a0-2c0d-470a-b545-95680be092f4",
   "metadata": {},
   "outputs": [],
   "source": [
    "# Your plotting code here, different plot for each feature\n",
    "fig,axes = plt.subplots(2,2)"
   ]
  },
  {
   "cell_type": "markdown",
   "id": "a96114cb-aafb-4c57-8bff-af5d309b1994",
   "metadata": {},
   "source": [
    "### Questions:\n",
    "1. Do you find the Law of Continuing Change holding good here? Prove it empirically."
   ]
  },
  {
   "cell_type": "markdown",
   "id": "131fe261-c978-434d-824f-f6e416fb6110",
   "metadata": {},
   "source": []
  },
  {
   "cell_type": "markdown",
   "id": "dd5ee600-da8e-431d-9028-fc3fc3d9f97e",
   "metadata": {},
   "source": [
    "2. Does the law of increasing growth too hold good here?"
   ]
  },
  {
   "cell_type": "markdown",
   "id": "7fe9e863-19a3-4f53-b50e-b8f065615839",
   "metadata": {},
   "source": []
  },
  {
   "cell_type": "markdown",
   "id": "ce62cb54-5d8f-4e65-a50b-b12cd9f6e362",
   "metadata": {},
   "source": [
    "### Law of continuing change for coding languages\n",
    "Consider the prominent languages used in this software project for versions of the form major.minor.patch\n",
    "1. Obtain the number of lines of code that are added, modified, removed and same between two consecutive versions\n",
    "2. Make plots for each parameter (added, modified, removed and same) with date on x-axis  \n",
    "    a) y-axis number of lines of code   \n",
    "    b) y-axis proportional number of lines of code (number of lines of code of that language/total number of lines of code) "
   ]
  },
  {
   "cell_type": "code",
   "execution_count": null,
   "id": "9707b16c-abb1-4ef8-bd77-af85711cd624",
   "metadata": {},
   "outputs": [],
   "source": [
    "# Your code here"
   ]
  },
  {
   "cell_type": "code",
   "execution_count": null,
   "id": "aaf138ba-8d1e-498a-ac34-17c05c1b0b16",
   "metadata": {},
   "outputs": [],
   "source": [
    "# Your plotting code here\n",
    "fig,axes = plt.subplots(2,2)"
   ]
  },
  {
   "cell_type": "markdown",
   "id": "b4297222-6881-4cc5-a335-c707c3c3c0c1",
   "metadata": {},
   "source": [
    "### Question:\n",
    "3. Does the law of continuing change obey here for all the considered prominent langugages? Comment on the rate of growth.  "
   ]
  },
  {
   "cell_type": "markdown",
   "id": "ae7d089a-2bb5-4a18-a6d4-5919fe73a8d9",
   "metadata": {},
   "source": []
  },
  {
   "cell_type": "markdown",
   "id": "ea29d2e5-7f12-46c4-baad-e4abe3406e9f",
   "metadata": {},
   "source": [
    "4. Does this software project obey Law of Continuing Change?"
   ]
  },
  {
   "cell_type": "markdown",
   "id": "0fe3765f-2f31-4ecc-96cf-991cdb610a14",
   "metadata": {},
   "source": []
  },
  {
   "cell_type": "code",
   "execution_count": null,
   "id": "46b3a214-86cd-4f91-9f1c-ca31089a3c21",
   "metadata": {},
   "outputs": [],
   "source": []
  }
 ],
 "metadata": {
  "kernelspec": {
   "display_name": "base",
   "language": "python",
   "name": "python3"
  },
  "language_info": {
   "codemirror_mode": {
    "name": "ipython",
    "version": 3
   },
   "file_extension": ".py",
   "mimetype": "text/x-python",
   "name": "python",
   "nbconvert_exporter": "python",
   "pygments_lexer": "ipython3",
   "version": "3.8.5"
  },
  "vscode": {
   "interpreter": {
    "hash": "2ac14f2eb83e036028f9c723bfb2e0426916f9581ea485dd86a6bc894cbc9f96"
   }
  }
 },
 "nbformat": 4,
 "nbformat_minor": 5
}
